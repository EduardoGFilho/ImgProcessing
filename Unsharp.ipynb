{
 "cells": [
  {
   "cell_type": "code",
   "execution_count": 3,
   "metadata": {},
   "outputs": [],
   "source": [
    "import numpy as np\n",
    "import scipy.signal as signal\n",
    "import scipy.ndimage as ndimage\n",
    "import cv2\n",
    "from statistics import median\n"
   ]
  },
  {
   "cell_type": "code",
   "execution_count": 4,
   "metadata": {},
   "outputs": [],
   "source": [
    "a = [1, 3, 5, 6, 5, 7]\n",
    "a.sort()\n"
   ]
  },
  {
   "cell_type": "code",
   "execution_count": 5,
   "metadata": {},
   "outputs": [],
   "source": [
    "def unsharpMask():\n",
    "    u = signal.unit_impulse(shape=(3, 3), idx=\"mid\", dtype=np.int8)\n",
    "    l = ndimage.laplace(u)\n",
    "    return u - l\n",
    "\n",
    "\n",
    "def averageMask(M):\n",
    "    return (np.ones((M, M)))*(1/M)\n"
   ]
  },
  {
   "cell_type": "code",
   "execution_count": 64,
   "metadata": {},
   "outputs": [],
   "source": [
    "def median_filter(img, filter_size):\n",
    "    img = np.array(img)\n",
    "    img_final = img\n",
    "    indexer = filter_size // 2\n",
    "    inside_bounds = True\n",
    "    a = 2\n",
    "\n",
    "    for img_column in range(img.shape[0]):\n",
    "        for img_row in range(img.shape[1]):\n",
    "            tmp = []\n",
    "\n",
    "            for filter_column in range(filter_size):\n",
    "                for filter_row in range(filter_size):\n",
    "\n",
    "                    i = img_column + filter_column - indexer\n",
    "                    j = img_row + filter_row - indexer\n",
    "                    \n",
    "                    if i >=0 and j >= 0 and i < img.shape[0] and j < img.shape[1] :\n",
    "                        tmp.append(img[i][j])\n",
    "\n",
    "            img_final[img_column][img_row] = median(tmp)\n",
    "    return img_final\n"
   ]
  },
  {
   "cell_type": "code",
   "execution_count": 65,
   "metadata": {},
   "outputs": [
    {
     "data": {
      "text/plain": [
       "True"
      ]
     },
     "execution_count": 65,
     "metadata": {},
     "output_type": "execute_result"
    }
   ],
   "source": [
    "img = cv2.imread(\"moon.png\")\n",
    "img = cv2.cvtColor(img, cv2.COLOR_RGB2GRAY)\n",
    "img_filtered = median_filter(img, 5)\n",
    "cv2.imwrite(\"abacate.png\", img_filtered)\n"
   ]
  }
 ],
 "metadata": {
  "kernelspec": {
   "display_name": "ImgProcessing2",
   "language": "python",
   "name": "python3"
  },
  "language_info": {
   "codemirror_mode": {
    "name": "ipython",
    "version": 3
   },
   "file_extension": ".py",
   "mimetype": "text/x-python",
   "name": "python",
   "nbconvert_exporter": "python",
   "pygments_lexer": "ipython3",
   "version": "3.10.8"
  },
  "orig_nbformat": 4,
  "vscode": {
   "interpreter": {
    "hash": "d61566497ea3728af4311eb9d69d92a31ad6ea5c3b439d4bed8f5b4c449f64b1"
   }
  }
 },
 "nbformat": 4,
 "nbformat_minor": 2
}
